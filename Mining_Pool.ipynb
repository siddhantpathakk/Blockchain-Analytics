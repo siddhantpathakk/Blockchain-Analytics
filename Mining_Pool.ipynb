{
  "nbformat": 4,
  "nbformat_minor": 0,
  "metadata": {
    "kernelspec": {
      "display_name": "Python 3",
      "language": "python",
      "name": "python3"
    },
    "language_info": {
      "codemirror_mode": {
        "name": "ipython",
        "version": 3
      },
      "file_extension": ".py",
      "mimetype": "text/x-python",
      "name": "python",
      "nbconvert_exporter": "python",
      "pygments_lexer": "ipython3",
      "version": "3.8.5"
    },
    "colab": {
      "name": "Mining_Pool.ipynb",
      "provenance": []
    }
  },
  "cells": [
    {
      "cell_type": "code",
      "metadata": {
        "id": "Wl3mq5Uj7cVY"
      },
      "source": [
        "import requests\n",
        "import time\n",
        "import json"
      ],
      "execution_count": 7,
      "outputs": []
    },
    {
      "cell_type": "code",
      "metadata": {
        "id": "8ot-2lIX7cVi"
      },
      "source": [
        "import networkx as nx\n",
        "g = nx.MultiDiGraph()"
      ],
      "execution_count": 2,
      "outputs": []
    },
    {
      "cell_type": "code",
      "metadata": {
        "id": "Ih-ucBrt7cVj"
      },
      "source": [
        "start_block = \"00000000000007d0f98d9edca880a6c124e25095712df8952e0439ac7409738a\""
      ],
      "execution_count": 3,
      "outputs": []
    },
    {
      "cell_type": "code",
      "metadata": {
        "id": "O9JiY-Z_7cVk"
      },
      "source": [
        "no_blocks = 100\n",
        "addr = start_block\n",
        "miners = []\n",
        "height = []\n",
        "\n",
        "for i in range(no_blocks):\n",
        "  response = requests.get(\"https://blockchain.info/rawblock/\" + addr)\n",
        "  response = response.json()\n",
        "  addr = response[\"next_block\"][0]\n",
        "  miners.append(response[\"tx\"][0][\"out\"][0][\"addr\"])\n",
        "  height.append(response[\"height\"])\n",
        "  #time.sleep(0.11)"
      ],
      "execution_count": 4,
      "outputs": []
    },
    {
      "cell_type": "code",
      "metadata": {
        "id": "qLo5wP9_7cVn"
      },
      "source": [
        "length = 0\n",
        "j=0\n",
        "list1=[]\n",
        "#list2=[]"
      ],
      "execution_count": 5,
      "outputs": []
    },
    {
      "cell_type": "code",
      "metadata": {
        "colab": {
          "base_uri": "https://localhost:8080/",
          "height": 1000
        },
        "id": "TAaF5Zyj7cVo",
        "outputId": "ed935898-8b08-4760-ad04-cee6fb659880"
      },
      "source": [
        "for i in range(len(miners)-1): \n",
        "  list2=[] #empty it everytime you loop\n",
        "  response = requests.get(\"https://blockchain.info/rawaddr/\" + miners[i])\n",
        "  try:\n",
        "        response = response.json()[\"txs\"][::-1]\n",
        "  except ValueError:\n",
        "      continue\n",
        "\n",
        "  h=height[i]\n",
        "  \n",
        "  while( response[j][\"block_height\"]<=height[i] ):\n",
        "    j=j+1 \n",
        "  \n",
        "  for k in response[j][\"out\"]: \n",
        "    list1.append((k[\"addr\"],k[\"value\"])) \n",
        "    length = length+1  \n",
        "  \n",
        "  while(list1 != []): #while the first stack isn't empty\n",
        "    temp = list1.pop()\n",
        "    print(temp)\n",
        "    r = requests.get(\"https://blockchain.info/rawaddr/\"+temp[0])\n",
        "    try:\n",
        "      r=r.json()[\"txs\"] #query the data for the respective address from miner\n",
        "    except ValueError:\n",
        "      continue\n",
        "    \n",
        "    for k in r:\n",
        "      if (k[\"block_height\"]>h): #go to that particular height for focussing on transactions wrt pool\n",
        "        if (len(k[\"out\"])>50): #10 is just an example, for fan-out  \n",
        "          for i in range(len(k[\"out\"])):\n",
        "            list2.append(((k[\"out\"][i][\"addr\"]),k[\"out\"][i][\"value\"])) #add respective addr and its value to the second stack\n",
        "      else:\n",
        "        pass\n",
        "      \n",
        "    while(list2!=[]): #add edges to the graph\n",
        "      g.add_edge(miners[i],list2.pop())"
      ],
      "execution_count": 14,
      "outputs": [
        {
          "output_type": "stream",
          "name": "stdout",
          "text": [
            "('1Mining2pfZRiFxGBQ6Jw8YNheUkHhyMfn', 5000000000)\n",
            "('1MH7BPQw2D6e2puuM58GsfXwtkN1qku199', 8013308)\n",
            "('17CLYQSbxCXebPybSWyS98GHu8Q6ZjQYbd', 4991153817)\n",
            "('1CJV5bR9NrT6Kw6S9h3o9yuvoee5zBAVUc', 10104278)\n",
            "('17CLYQSbxCXebPybSWyS98GHu8Q6ZjQYbd', 4991153817)\n",
            "('19wccgQh6BYVvX7CMbB72qb6fdpG57quvr', 547403634)\n",
            "('16Ht88dWqJ9KZawSborViTLE8nppJnt1at', 526827339)\n",
            "('17gTe7MtFjkKo1wdTZfhkjTYqdJBV2wz3A', 421255332)\n",
            "('1N6KMP6PwaZYVhXHEh9FTqDrWUjUuboSsX', 83677875)\n",
            "('1AroV9DWxKtppu6veDyEkRMM578GaRSzGa', 358574606)\n",
            "('13ggk9GP6jFMqcHeSyM6Pr34XuZ2uiYpmf', 212550122)\n",
            "('1JKiWMfocn341K3Pz9Mb4suGMvq9Dx5TKe', 206964391)\n",
            "('1HkJnteXo5b8aFFa9zEipYtwHASD9rYyXM', 193281304)\n",
            "('15kZZVh28AA6Ya3232bCXC9FLMtYFnmHZd', 172522416)\n",
            "('19kWQzUavrn7f3tdYapVsaVsYKQJL18Aei', 168600791)\n",
            "('15Lmz2nRbMg3DivuRvRP3g6V4jzXV2sNJy', 123767422)\n",
            "('1FdMvDFMi581QUj9vDKZHSyU3MCJAAgGz4', 119293427)\n",
            "('1FUAybsq5mUnd71BBP3Re5oXPVNueu49vu', 115274369)\n",
            "('1H99WtWk2jPU291gqAApnzAKDzvx8mL4Ju', 111445936)\n",
            "('1KV9diiAQaSKuNzjgoCZyGHSZjY9faj7Lw', 109732881)\n",
            "('1Ee5XNNxiBZv21CzNhVthYkHSmqQwFz7VG', 102002068)\n",
            "('12pqYhP45itvQfPbso79Tvcch5qKEbuheG', 100503443)\n",
            "('1CadmpHV4PrkUBCzbYNM5BqyN4pEbqNrud', 87642188)\n",
            "('1KbS6CAt99tYTtsnpPvV75q93K3hNZUbN9', 85068401)\n",
            "('1AHNq8FkdhNDSEg5BXagsDcdE1ZDx2LTma', 69177182)\n",
            "('1PckSW8JtBiTv3eEeRbSUxw5uwhvkzGKRu', 68369579)\n",
            "('1Lc45ipAVpUEH7aXYPJCETJ8toKGSd8XxW', 486428342)\n",
            "('1ELJoe7MMo1e2f1MTMcchr4LiPNG95DeRC', 419948104)\n",
            "('1NTFtxFUjkNiaxtapufDUAEgBYuF9jRYYu', 385984850)\n",
            "('1PsinL3q9ALGszdYB8mxL5VcS9jmhLeDuo', 363147202)\n",
            "('165HTadbTgJpTGJuvpjABn9GbqhfGDXWi2', 299656665)\n",
            "('19RtTqLgisZyqJWxNJqkUk6nXmYoG2MQXJ', 287112190)\n",
            "('1NNsRfSUxcSSyJ5VSZeWZTshc2LcmLPcDx', 274440311)\n",
            "('14seLUF7J2M62K18GtHbNeWRYifTfrk37X', 267377638)\n",
            "('19mWx4HQkcNQJXvw2SiKyZFSijfP1ayEBx', 246819442)\n",
            "('18xVLmCawGdLLLERi9LEDjoRue9NyTQXrt', 225804380)\n",
            "('1KBxbcT4QLeKecfuW5gXDwehVn7kWB5Q2K', 217162760)\n",
            "('1JKddMWhVDQzX5Dg89WKuDg8grV1o1qW42', 192666755)\n",
            "('178BSDWmZCK74b717mcU1NeAQR5pw7brKj', 191119646)\n",
            "('1C1QTJmwuP82nZbzjCtAgYwPQmmjqBoRar', 152673901)\n",
            "('18aZoh1SAmbVbtbiBbiyyAmKSbsZGS2ypo', 123026848)\n",
            "('12J5a6BekkGNWmKjHnCzj84ZannmrEBWEk', 581026185)\n",
            "('1NKM1whjsFGwxB44XmwpKrFapYRQ1j2ivk', 1001900)\n",
            "('1FKXnAnHq8E2UMBipAmF3q1naSvYyvcceM', 448136990)\n",
            "('13ACHdwzV4j8PioGkWBvhWwsZjofYB5AdJ', 372423024)\n",
            "('1FEdYFZvuJM3UmuoHahUZSmzWPysSM7qje', 305329591)\n",
            "('1FJgRvzhVK17cYytfwrhqALEH8Xxy1L7Z1', 296060147)\n",
            "('1M5pd2hQwSfzS2mhvVQQ2hEmsmTXaZ6gC8', 282291696)\n",
            "('137JexCo13UW8LQLCNngFuzjSxCBiArfYs', 269355060)\n",
            "('1Luckyy2PLMDhLvSs2K7i5spMA3ACE4YEt', 171106473)\n",
            "('1NMrhhYSGtivYhsgKoPfmSUsnp3PA4CD9n', 89066511)\n",
            "('1EAktf5LhyWNLWzfmEkD24savdzc4hwCZ9', 75049646)\n",
            "('18BH22DDjBKkvoZnuxbYr2MaFBWaePqhHu', 74762134)\n",
            "('19KYnkBmmwquNkLXbyyAcphEbAh3X3yvcc', 74269255)\n",
            "('19DGKSuQqnmqRzKKMCWPwCrnBv5kfXVbSD', 73825159)\n",
            "('12jaoSx9E4grbSZcXS7NJ44syvCCVG7BBR', 68986461)\n",
            "('1N4c8rFC5okV9GVG7by9AgXwyiHBMcfbGS', 2565852346)\n",
            "('1C7MJfm7gipTF87sjZYnEGgW5D9fiXv3d8', 394961236)\n",
            "('17jzrD7Rv6UTWo73JMiGMFTFYss5wfnKLJ', 221326323)\n",
            "('1DyMS8sW3xf1gEtaddU9ifPhWstNDPS26g', 194665559)\n",
            "('1N5Wp87yDXwNcdAXTpkfgmCmNjbWAHcSpT', 182631318)\n",
            "('14ffvzCd6jQqCEMSS2xEaDgCFAX7JvS3WJ', 179744706)\n",
            "('14eGCyBqfWoKPCM6te1LTmMdrV1WSyzjfk', 166731167)\n",
            "('1MSn7rwKAqZkrczLpg6UsXd1jS2HG1PcGu', 159953898)\n",
            "('1AeRErDn38iw4tYz4Y5Z9atJa8NdsEpMaq', 150067052)\n",
            "('1Ex3H6iPPLKfEPin19qhT1Uy2s9i5dPs9i', 146122798)\n",
            "('1N7BoSWRYgFefFvXBgHTkB743r39uBjqqi', 141994233)\n",
            "('1DVhQK4j6MQeU3QWD7VakP7WWCDBDfojnf', 139583210)\n",
            "('1471p6KdPCtdGQN7iT2m2QSxitt9mKtMDQ', 126927968)\n",
            "('1N4Acjxz7Zh56EWGxEsz3nvXgUFach78uA', 126733056)\n",
            "('12ioJ6cu7RbBJdkxX8Dk3Pu8DeUPqTfzQf', 126098982)\n"
          ]
        },
        {
          "output_type": "error",
          "ename": "IndexError",
          "evalue": "ignored",
          "traceback": [
            "\u001b[0;31m---------------------------------------------------------------------------\u001b[0m",
            "\u001b[0;31mIndexError\u001b[0m                                Traceback (most recent call last)",
            "\u001b[0;32m<ipython-input-14-b101c0c0981c>\u001b[0m in \u001b[0;36m<module>\u001b[0;34m()\u001b[0m\n\u001b[1;32m     34\u001b[0m \u001b[0;34m\u001b[0m\u001b[0m\n\u001b[1;32m     35\u001b[0m     \u001b[0;32mwhile\u001b[0m\u001b[0;34m(\u001b[0m\u001b[0mlist2\u001b[0m\u001b[0;34m!=\u001b[0m\u001b[0;34m[\u001b[0m\u001b[0;34m]\u001b[0m\u001b[0;34m)\u001b[0m\u001b[0;34m:\u001b[0m \u001b[0;31m#add edges to the graph\u001b[0m\u001b[0;34m\u001b[0m\u001b[0;34m\u001b[0m\u001b[0m\n\u001b[0;32m---> 36\u001b[0;31m       \u001b[0mg\u001b[0m\u001b[0;34m.\u001b[0m\u001b[0madd_edge\u001b[0m\u001b[0;34m(\u001b[0m\u001b[0mminers\u001b[0m\u001b[0;34m[\u001b[0m\u001b[0mi\u001b[0m\u001b[0;34m]\u001b[0m\u001b[0;34m,\u001b[0m\u001b[0mlist2\u001b[0m\u001b[0;34m.\u001b[0m\u001b[0mpop\u001b[0m\u001b[0;34m(\u001b[0m\u001b[0;34m)\u001b[0m\u001b[0;34m)\u001b[0m\u001b[0;34m\u001b[0m\u001b[0;34m\u001b[0m\u001b[0m\n\u001b[0m",
            "\u001b[0;31mIndexError\u001b[0m: list index out of range"
          ]
        }
      ]
    }
  ]
}